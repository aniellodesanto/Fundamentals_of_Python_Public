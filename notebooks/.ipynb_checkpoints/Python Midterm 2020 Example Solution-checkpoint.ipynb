{
 "cells": [
  {
   "cell_type": "markdown",
   "metadata": {},
   "source": [
    "# Part 1"
   ]
  },
  {
   "cell_type": "code",
   "execution_count": 1,
   "metadata": {},
   "outputs": [
    {
     "data": {
      "text/plain": [
       "True"
      ]
     },
     "execution_count": 1,
     "metadata": {},
     "output_type": "execute_result"
    }
   ],
   "source": [
    "not \"apple\" in \"hello world\" and \"dog\" in \"dogma\""
   ]
  },
  {
   "cell_type": "code",
   "execution_count": 2,
   "metadata": {},
   "outputs": [
    {
     "data": {
      "text/plain": [
       "True"
      ]
     },
     "execution_count": 2,
     "metadata": {},
     "output_type": "execute_result"
    }
   ],
   "source": [
    "3 != [1,2,3]"
   ]
  },
  {
   "cell_type": "code",
   "execution_count": 5,
   "metadata": {},
   "outputs": [
    {
     "data": {
      "text/plain": [
       "True"
      ]
     },
     "execution_count": 5,
     "metadata": {},
     "output_type": "execute_result"
    }
   ],
   "source": [
    "\"apple\" and \"Dog\" in \"Dogma\""
   ]
  },
  {
   "cell_type": "code",
   "execution_count": 4,
   "metadata": {},
   "outputs": [
    {
     "data": {
      "text/plain": [
       "False"
      ]
     },
     "execution_count": 4,
     "metadata": {},
     "output_type": "execute_result"
    }
   ],
   "source": [
    "[\"hello\"] in [\"hello\", \"world\"] and \"dog\" in \"dogma\""
   ]
  },
  {
   "cell_type": "code",
   "execution_count": 6,
   "metadata": {},
   "outputs": [
    {
     "data": {
      "text/plain": [
       "False"
      ]
     },
     "execution_count": 6,
     "metadata": {},
     "output_type": "execute_result"
    }
   ],
   "source": [
    "\"3\" == 3"
   ]
  },
  {
   "cell_type": "markdown",
   "metadata": {},
   "source": [
    "# Part 2"
   ]
  },
  {
   "cell_type": "markdown",
   "metadata": {},
   "source": [
    "1. Write a program that asks the user for an input; if this input is in the greetings list, it prints “Hey there!” If not, it asks\n",
    "the user if the list should be updated by adding the input to it, and does the updated or not defending\n",
    "on the answer.\n"
   ]
  },
  {
   "cell_type": "code",
   "execution_count": 8,
   "metadata": {},
   "outputs": [
    {
     "name": "stdout",
     "output_type": "stream",
     "text": [
      "Say somethingHello\n",
      "Do you want to update the greetings list? y/nn\n",
      "goodbye\n"
     ]
    }
   ],
   "source": [
    "greetings = [\"hi\", \"hello\", \"howdy\", \"ciao\", \"privet\"]\n",
    "u_i = input(\"Say something! \")\n",
    "\n",
    "#is the input in the list?\n",
    "if u_i in greetings:\n",
    "    print(\"Hey there!\")\n",
    "#if not, ask if we want to update greetings\n",
    "elif \"y\" == str.lower(input(\"Do you want to update the greetings list? y/n\")):\n",
    "    #update the list\n",
    "    greetings.append(u_i)\n",
    "    print(\"Ok, I learned a new greeting! Goodbye!\")\n",
    "else:\n",
    "    #just leave\n",
    "    print(\"goodbye\")"
   ]
  },
  {
   "cell_type": "markdown",
   "metadata": {},
   "source": [
    "2. Write a program that uses a while loop to print numbers from 0 to 10"
   ]
  },
  {
   "cell_type": "code",
   "execution_count": 9,
   "metadata": {},
   "outputs": [
    {
     "name": "stdout",
     "output_type": "stream",
     "text": [
      "0\n",
      "1\n",
      "2\n",
      "3\n",
      "4\n",
      "5\n",
      "6\n",
      "7\n",
      "8\n",
      "9\n",
      "10\n"
     ]
    }
   ],
   "source": [
    "#start a variable as a counter\n",
    "i = 0\n",
    "\n",
    "#iterate as long as i is less than or equal to 10\n",
    "while i <= 10:\n",
    "    print(i)\n",
    "    #increase the counter\n",
    "    i += 1\n",
    "    "
   ]
  },
  {
   "cell_type": "markdown",
   "metadata": {},
   "source": [
    "# Part 3"
   ]
  },
  {
   "cell_type": "markdown",
   "metadata": {},
   "source": [
    "1. Consider the list desserts. Write a program that generates a dictionary, where each key is a word is the list desserts, and each value is True or False depending on whether the word starts with a vowel or not."
   ]
  },
  {
   "cell_type": "code",
   "execution_count": 11,
   "metadata": {},
   "outputs": [],
   "source": [
    "desserts = [\"apple pie\", \"icecream\", \"tart\", \"chocolate croissant\", \"pecan pie\"]"
   ]
  },
  {
   "cell_type": "code",
   "execution_count": 13,
   "metadata": {},
   "outputs": [
    {
     "name": "stdout",
     "output_type": "stream",
     "text": [
      "{'apple pie': True, 'icecream': True, 'tart': False, 'chocolate croissant': False, 'pecan pie': False}\n"
     ]
    }
   ],
   "source": [
    "#instantiate a dictionary\n",
    "vowel_test = {}\n",
    "#instantiate a list of vowels\n",
    "vowels = [\"a\", \"e\", \"i\", \"o\", \"u\"]\n",
    "\n",
    "#for every word in the list\n",
    "for i in desserts:\n",
    "    #check whether it starts with a vowel\n",
    "    #and save that check in the dictionary using the word as a key\n",
    "    vowel_test[i] = (i[0] in vowels)\n",
    "\n",
    "# a print to check that everything worked as expected  \n",
    "print(vowel_test)"
   ]
  },
  {
   "cell_type": "markdown",
   "metadata": {},
   "source": [
    "2. Consider the list desserts once again. Write a program generating a dictionary, where each key\n",
    "is a character in the list, and each value is the total number of instances of that character in the\n",
    "list (*E.g. { 'a': 6, 'p': 5, 'l': 2, 'e': 7, ... }*).\n",
    "\n",
    "*Hint 1: you need to count how many times each letter appears in a word, and repeat for every\n",
    "word in the list*\n",
    "\n",
    "*Hint 2: you can access the keys of a dictionary X as X.keys()*"
   ]
  },
  {
   "cell_type": "code",
   "execution_count": 14,
   "metadata": {},
   "outputs": [
    {
     "name": "stdout",
     "output_type": "stream",
     "text": [
      "{'a': 6, 'p': 5, 'l': 2, 'e': 7, ' ': 3, 'i': 4, 'c': 6, 'r': 3, 'm': 1, 't': 4, 'h': 1, 'o': 3, 's': 2, 'n': 2}\n"
     ]
    }
   ],
   "source": [
    "#instantiate a dictionary\n",
    "character_count = {}\n",
    "\n",
    "#for every word in the list\n",
    "for word in desserts:\n",
    "    #for every character in the word\n",
    "    for i in word:\n",
    "        #if that letter was already added to the dictionary\n",
    "        if i in character_count.keys():\n",
    "            #increase the counter by one\n",
    "            character_count[i] += 1\n",
    "        else:\n",
    "            #otherwise create the key, and record that it was encountered once\n",
    "            character_count[i] = 1\n",
    "            \n",
    "# a print to check that everything worked as expected            \n",
    "print(character_count)"
   ]
  }
 ],
 "metadata": {
  "kernelspec": {
   "display_name": "Python 3",
   "language": "python",
   "name": "python3"
  },
  "language_info": {
   "codemirror_mode": {
    "name": "ipython",
    "version": 3
   },
   "file_extension": ".py",
   "mimetype": "text/x-python",
   "name": "python",
   "nbconvert_exporter": "python",
   "pygments_lexer": "ipython3",
   "version": "3.8.5"
  }
 },
 "nbformat": 4,
 "nbformat_minor": 4
}
