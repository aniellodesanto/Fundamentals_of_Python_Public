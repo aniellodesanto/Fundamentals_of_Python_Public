{
 "cells": [
  {
   "cell_type": "code",
   "execution_count": null,
   "metadata": {},
   "outputs": [],
   "source": [
    "#I tried to create a conditional, from what i remember of logic class\n",
    "#I managed to get it to return two different phrases depending on the truth value of IsLong\n",
    "\n",
    "Minimum = int(input(\"How many characters long is a \\'long\\' word? (Please enter a numeral):\", ))\n",
    "Word = input(\"Now please enter any word:\", )\n",
    "IsLong = len(Word) >= Minimum\n",
    "print(IsLong)\n",
    "x = IsLong or print(\"Your word is not long\") #If IsLong is false, then to satisfy disjunction print(...) is true. If IsLong is true, then IsLong is true\n",
    "y = IsLong and print(\"Your word is long\") #If IsLong is true then to satisfy the conjunction, print(...) must be true."
   ]
  },
  {
   "cell_type": "code",
   "execution_count": null,
   "metadata": {},
   "outputs": [],
   "source": [
    "x = False or  print(\"This gets printed\")\n",
    "y = False and  print(\"This other thing gets printed\")"
   ]
  },
  {
   "cell_type": "code",
   "execution_count": null,
   "metadata": {},
   "outputs": [],
   "source": [
    "x = True or print(\"This gets printed\")\n",
    "y = True and  print(\"This other thing gets printed\")"
   ]
  },
  {
   "cell_type": "code",
   "execution_count": null,
   "metadata": {},
   "outputs": [],
   "source": []
  }
 ],
 "metadata": {
  "kernelspec": {
   "display_name": "Python 3",
   "language": "python",
   "name": "python3"
  },
  "language_info": {
   "codemirror_mode": {
    "name": "ipython",
    "version": 3
   },
   "file_extension": ".py",
   "mimetype": "text/x-python",
   "name": "python",
   "nbconvert_exporter": "python",
   "pygments_lexer": "ipython3",
   "version": "3.8.5"
  }
 },
 "nbformat": 4,
 "nbformat_minor": 4
}
