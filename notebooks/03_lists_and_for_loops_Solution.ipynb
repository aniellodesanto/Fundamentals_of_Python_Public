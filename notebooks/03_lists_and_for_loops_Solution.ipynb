{
 "cells": [
  {
   "cell_type": "markdown",
   "metadata": {},
   "source": [
    "<div style=\"text-align: right\">\n",
    "    <i>\n",
    "        LING 5981/6080: Fundamentals of Python <br>\n",
    "        Fall 2020 <br>\n",
    "        Aniello De Santo\n",
    "    </i>\n",
    "</div>\n",
    "\n",
    "# Notebook 3: lists and for loops\n",
    "\n",
    "This notebook introduces a new data type, `list`. It explains what methods are defined for lists (`append`, `extend`, `insert`, and others) and what issues appear when the lists are copied. Then it shows the way to access sub-elements of larger elements individually via a `for-loop`."
   ]
  },
  {
   "cell_type": "markdown",
   "metadata": {},
   "source": [
    "## Lists\n",
    "\n",
    "A `list` is a collection of items."
   ]
  },
  {
   "cell_type": "code",
   "execution_count": null,
   "metadata": {},
   "outputs": [],
   "source": [
    "a = [1, 2, 3]\n",
    "print(a)"
   ]
  },
  {
   "cell_type": "code",
   "execution_count": null,
   "metadata": {},
   "outputs": [],
   "source": [
    "type(a)"
   ]
  },
  {
   "cell_type": "markdown",
   "metadata": {},
   "source": [
    "Elements in a list can be of different types: integers, strings, booleans, floats, and even other lists. \n",
    "For instance, the list below contains another list as its sub-list:"
   ]
  },
  {
   "cell_type": "code",
   "execution_count": null,
   "metadata": {},
   "outputs": [],
   "source": [
    "b = [1, \"a\", [\"cab\", True]]"
   ]
  },
  {
   "cell_type": "markdown",
   "metadata": {},
   "source": [
    "Note that each elemenent in the list is separated by a comma: `1` is an element, `\"a\"` is an element, and `[\"cab\", True]` is an element.\n",
    "\n",
    "Recall that characters in strings are ordered --- a simple reminder is that\"devil\" and \"lived\" are different strins even though they contain the same characters. Items in a list are similarly ordered: `[1, 2, 3]` is not the same as `[3, 1, 2]`."
   ]
  },
  {
   "cell_type": "code",
   "execution_count": null,
   "metadata": {},
   "outputs": [],
   "source": [
    "[1, 2, 3] == [3, 1, 2]"
   ]
  },
  {
   "cell_type": "markdown",
   "metadata": {},
   "source": [
    "Therefore we can use indexing with lists and access each element individually. Be careful! As for strings, the first element in a list is at position `[0]`, not `[1]`."
   ]
  },
  {
   "cell_type": "code",
   "execution_count": null,
   "metadata": {},
   "outputs": [],
   "source": [
    "sample_list = [1, \"linguistics\", [\"physics\", 15], 3.14, False]\n",
    "\n",
    "print(\"Element at the index 1 is\", sample_list[1])\n",
    "print(\"Element at the index 2 is\", sample_list[2])\n",
    "print(\"Element at the index 4 is\", sample_list[4])"
   ]
  },
  {
   "cell_type": "code",
   "execution_count": null,
   "metadata": {},
   "outputs": [],
   "source": [
    "len(sample_list)"
   ]
  },
  {
   "cell_type": "markdown",
   "metadata": {},
   "source": [
    "Now, if a list contains more complex elements (as another list), we can access an element of the sublist via a recursive application of indexing:"
   ]
  },
  {
   "cell_type": "code",
   "execution_count": null,
   "metadata": {},
   "outputs": [],
   "source": [
    "print(sample_list[2][0])"
   ]
  },
  {
   "cell_type": "markdown",
   "metadata": {},
   "source": [
    "Where the index in the first position is the address in the external list, and the index in second position is the address in the internal list. \n",
    "\n",
    "It might not be clear why now, but soon we will encounter problems for which it might be useful to instantiate an empty list:"
   ]
  },
  {
   "cell_type": "code",
   "execution_count": null,
   "metadata": {},
   "outputs": [],
   "source": [
    "empty_list = []\n",
    "print(\"This is an empty list:\", empty_list)\n",
    "print(\"Its length is\", len(empty_list))"
   ]
  },
  {
   "cell_type": "markdown",
   "metadata": {},
   "source": [
    "### Modifying lists\n",
    "\n",
    "You can add new elements to lists by using the methods `append`, `extend` and `insert`.\n",
    "\n",
    "#### `append`\n",
    "\n",
    "This method appends a new item to an already existing list and uses the following syntax, `list_to_append_to.append(what_to_append)`."
   ]
  },
  {
   "cell_type": "code",
   "execution_count": null,
   "metadata": {},
   "outputs": [],
   "source": [
    "list_1 = [1, 2, 3]\n",
    "list_1.append(\"new item\")\n",
    "print(list_1)"
   ]
  },
  {
   "cell_type": "markdown",
   "metadata": {},
   "source": [
    "However, this is a way to add only one item, and it cannot be used directly if we want to add all items from one list to another."
   ]
  },
  {
   "cell_type": "code",
   "execution_count": null,
   "metadata": {},
   "outputs": [],
   "source": [
    "[\"a\"] + \"B\" "
   ]
  },
  {
   "cell_type": "code",
   "execution_count": null,
   "metadata": {},
   "outputs": [],
   "source": [
    "one_list = [1, 2, 3]\n",
    "another_list = [True, \"linguistics\"]\n",
    "one_list.append(another_list)\n",
    "print(one_list)"
   ]
  },
  {
   "cell_type": "markdown",
   "metadata": {},
   "source": [
    "#### `extend`\n",
    "\n",
    "The `extend` method adds the element from the second list in a _flat_ way:"
   ]
  },
  {
   "cell_type": "code",
   "execution_count": null,
   "metadata": {},
   "outputs": [],
   "source": [
    "one_list = [1, 2, 3]\n",
    "another_list = [True, [\"linguistics\"]]\n",
    "one_list.extend(another_list)\n",
    "print(one_list)"
   ]
  },
  {
   "cell_type": "code",
   "execution_count": null,
   "metadata": {},
   "outputs": [],
   "source": [
    "one_list = [1, 2, 3]\n",
    "another_list = [True, [\"linguistics\"]]\n",
    "one_list.append(another_list[0]) #??\n",
    "one_list.extend(another_list[1])\n",
    "print(one_list)"
   ]
  },
  {
   "cell_type": "code",
   "execution_count": null,
   "metadata": {},
   "outputs": [],
   "source": []
  },
  {
   "cell_type": "markdown",
   "metadata": {},
   "source": [
    "#### `insert`\n",
    "\n",
    "If an element needs to be inserted in a specific position, `insert` can be used with the specified index:"
   ]
  },
  {
   "cell_type": "code",
   "execution_count": null,
   "metadata": {},
   "outputs": [],
   "source": [
    "states = [\"California\", \"New York\", \"Arizona\"]\n",
    "states.insert(1, \"Colorado\")\n",
    "print(states)"
   ]
  },
  {
   "cell_type": "markdown",
   "metadata": {},
   "source": [
    "#### `remove` and `del`\n",
    "\n",
    "The method `remove` removes a specific item from the list."
   ]
  },
  {
   "cell_type": "code",
   "execution_count": null,
   "metadata": {},
   "outputs": [],
   "source": [
    "states = [\"California\", \"New York\", \"Arizona\"]\n",
    "states.remove(\"Arizona\")\n",
    "print(states)"
   ]
  },
  {
   "cell_type": "markdown",
   "metadata": {},
   "source": [
    "However, notice that `remove` only removes the first instance of the item:"
   ]
  },
  {
   "cell_type": "code",
   "execution_count": null,
   "metadata": {},
   "outputs": [],
   "source": [
    "states = [\"California\", \"New York\", \"Arizona\", \"New York\"]\n",
    "states.remove(\"New York\")\n",
    "print(states)"
   ]
  },
  {
   "cell_type": "markdown",
   "metadata": {},
   "source": [
    "If an item needs to be removed by position, one should use `del` operator. Notice its unusual syntax!"
   ]
  },
  {
   "cell_type": "code",
   "execution_count": null,
   "metadata": {},
   "outputs": [],
   "source": [
    "print(states)\n",
    "del states[1]\n",
    "print(states)"
   ]
  },
  {
   "cell_type": "markdown",
   "metadata": {},
   "source": [
    "Rewriting an element of a list by some other element can be done directly by accessing that element by index and changing it."
   ]
  },
  {
   "cell_type": "code",
   "execution_count": null,
   "metadata": {},
   "outputs": [],
   "source": [
    "cities = [\"NYC\", \"LA\"]\n",
    "cities[0] = \"SF\"\n",
    "print(cities)"
   ]
  },
  {
   "cell_type": "markdown",
   "metadata": {},
   "source": [
    "**Practice.** You are given the following list of letters."
   ]
  },
  {
   "cell_type": "code",
   "execution_count": null,
   "metadata": {},
   "outputs": [],
   "source": [
    "letters = [\"d\", \"b\", \"c\", \"n\"]"
   ]
  },
  {
   "cell_type": "markdown",
   "metadata": {},
   "source": [
    "Insert \"x\" at the position 3 in the list `letters`. Then remove \"c\" from it. Append \"e\". Delete the element at the index 2, and, finally, rewrite the letter at the position 1 as 'o'. Print `letters`."
   ]
  },
  {
   "cell_type": "code",
   "execution_count": null,
   "metadata": {},
   "outputs": [],
   "source": []
  },
  {
   "cell_type": "markdown",
   "metadata": {},
   "source": [
    "**Important** Differenlty from what we learned in order to modify, list methods modify the undelying list directly, so be careful!\n",
    "Compare the following:"
   ]
  },
  {
   "cell_type": "code",
   "execution_count": null,
   "metadata": {},
   "outputs": [],
   "source": [
    "str1 = \"a\"\n",
    "print(str.upper(str1))\n",
    "print(str1)\n",
    "\n",
    "list_test = [\"a\"]\n",
    "list_test.append(\"b\")\n",
    "print(list_test)"
   ]
  },
  {
   "cell_type": "markdown",
   "metadata": {},
   "source": [
    "## Copying lists\n",
    "\n",
    "One needs to be careful when copying lists because the way Python handles references to memory is a bit tricky. Consider the following code and its behavior."
   ]
  },
  {
   "cell_type": "code",
   "execution_count": null,
   "metadata": {},
   "outputs": [],
   "source": [
    "states_1 = [\"California\", \"New York\", \"Arizona\"]\n",
    "states_2 = states_1\n",
    "print(\"states_1:\", states_1)\n",
    "print(\"states_2:\", states_2)\n",
    "\n",
    "del states_2[2]\n",
    "print(\"states_1:\", states_1)\n",
    "print(\"states_2:\", states_2)"
   ]
  },
  {
   "cell_type": "markdown",
   "metadata": {},
   "source": [
    "All variables are stored in memory. When you are running the cell that initializes a variable, it reseves a spot in memory for that variable, or it _allocates_ memory for that variable. **Memory allocation** is the process of reserving space in memory for some object.\n",
    "\n",
    "<img src=\"images/3_1.png\" width=\"300\">\n",
    "\n",
    "If a list contains another list (i.e. if the list is _nested_), then the \"main\" and the \"internal\" lists are contained in different memory positions. The \"main\" list contains information on where to look for the \"internal\" list, and this indicator is called a **pointer**.\n",
    "\n",
    "<img src=\"images/3_2.png\" width=\"350\">\n",
    "\n",
    "Examples of pointers in real life:\n",
    "  * address written on an envelope (address is a string that points to your apartment);\n",
    "  * your debit card (it doesn't have money, it points to an account with your money);\n",
    "  * URL (it doesn't have any info _inside_ it, it points to a source of that information), etc."
   ]
  },
  {
   "cell_type": "markdown",
   "metadata": {},
   "source": [
    "### \"Straightforward\" copy"
   ]
  },
  {
   "cell_type": "code",
   "execution_count": null,
   "metadata": {},
   "outputs": [],
   "source": [
    "states_1 = [\"California\", \"New York\", \"Arizona\"]\n",
    "states_2 = states_1"
   ]
  },
  {
   "cell_type": "markdown",
   "metadata": {},
   "source": [
    "When we copy a list by just assigning its value to another list, i.e. as `list_2 = list_1`, what happens in memory is the following:\n",
    "\n",
    "<img src=\"images/3_3.png\" width=\"700\">\n",
    "\n",
    "The new list is now _pointing to the same slot in memory_ as the old one, i.e. they are linked.\n",
    "\n",
    "**Analogy:** Mary and Jack have a shared bank account. Even though they have separate debit cards, they still point to the same bank account!"
   ]
  },
  {
   "cell_type": "code",
   "execution_count": null,
   "metadata": {},
   "outputs": [],
   "source": [
    "states_1 = [\"California\", \"New York\", \"Arizona\"]\n",
    "states_2 = states_1\n",
    "del states_2[2]\n",
    "print(\"states_1:\", states_1)\n",
    "print(\"states_2:\", states_2)"
   ]
  },
  {
   "cell_type": "markdown",
   "metadata": {},
   "source": [
    "Even though we removed \"Arizona\" from the copy of the list, the original list was modified! It happens because if you copy a list in this direct way, the copy and the original list share the same _reference_, or, in other words, they occupy the same location in the memory."
   ]
  },
  {
   "cell_type": "markdown",
   "metadata": {},
   "source": [
    "### Shallow copy\n",
    "\n",
    "One way to copy the list and to avoid that problem, is to take a full slice of that list, it will create a **shallow copy**."
   ]
  },
  {
   "cell_type": "code",
   "execution_count": null,
   "metadata": {},
   "outputs": [],
   "source": [
    "states_1 = [\"California\", \"New York\", \"Arizona\"]\n",
    "states_2 = states_1[:]\n",
    "del states_2[2]\n",
    "print(\"states_1:\", states_1)\n",
    "print(\"states_2:\", states_2)"
   ]
  },
  {
   "cell_type": "markdown",
   "metadata": {},
   "source": [
    "The state of memory now looks different than before. These two lists are not linked anymore:\n",
    "\n",
    "<img src=\"images/3_4.png\" width=\"700\">\n",
    "\n",
    "However, this will work if we have _flat_ lists (lists without other lists embedded in them). Let's try to do a shallow copy of a nested list."
   ]
  },
  {
   "cell_type": "code",
   "execution_count": null,
   "metadata": {},
   "outputs": [],
   "source": [
    "states_1 = [\"CA\", [\"NY\", \"NV\"]]\n",
    "states_2 = states_1[:]\n",
    "del states_2[1][0]\n",
    "print(\"states_1:\", states_1)\n",
    "print(\"states_2:\", states_2)"
   ]
  },
  {
   "cell_type": "markdown",
   "metadata": {},
   "source": [
    "Remember that a \"nested\" list has a different location in memory than the \"main\" list:\n",
    "\n",
    "<img src=\"images/3_2.png\" width=\"350\">\n",
    "\n",
    "When we create a shallow copy of a nested list, we are reserving a separate memory location for the \"main\" list, but the pointers for the \"nested\" lists are still pointing to the same locations as in the original list!\n",
    "\n",
    "<img src=\"images/3_5.png\" width=\"700\">\n",
    "\n",
    "**Analogy:** Mary and Jack have different bank accounts, but they are still sharing a sub-account."
   ]
  },
  {
   "cell_type": "markdown",
   "metadata": {},
   "source": [
    "### Deep copy\n",
    "\n",
    "**Deep copy** copies references to all elements and sub-elements of the original list. However, to access this function (`deepcopy`), we need to import it from **a library** for copying different data structures called `copy`."
   ]
  },
  {
   "cell_type": "code",
   "execution_count": null,
   "metadata": {},
   "outputs": [],
   "source": [
    "# The following command maked \"deepcopy\" availabe to be used\n",
    "from copy import deepcopy"
   ]
  },
  {
   "cell_type": "markdown",
   "metadata": {},
   "source": [
    "After `from` write the name of the library, and after `import` we name the function that is being imported."
   ]
  },
  {
   "cell_type": "code",
   "execution_count": null,
   "metadata": {},
   "outputs": [],
   "source": [
    "states_1 = [\"CA\", \"CO\", [\"NY\", \"NV\"], \"RI\"]\n",
    "states_2 = deepcopy(states_1)\n",
    "del states_2[2][0]\n",
    "del states_2[1]\n",
    "print(\"states_1:\", states_1)\n",
    "print(\"states_2:\", states_2)"
   ]
  },
  {
   "cell_type": "markdown",
   "metadata": {},
   "source": [
    "In this case, we are copying the architecture of the list we had originally, and allocating different memory locations for every single sub-list of the original list.\n",
    "\n",
    "<img src=\"images/3_6.png\" width=\"750\">\n",
    "\n",
    "**Analogy:** Mary and Jack have completely separate bank accounts and have nothing to do with each other."
   ]
  },
  {
   "cell_type": "markdown",
   "metadata": {},
   "source": [
    "**Question:** why does the following slightly modified code produce an error message?"
   ]
  },
  {
   "cell_type": "code",
   "execution_count": null,
   "metadata": {},
   "outputs": [],
   "source": [
    "states_1 = [\"CA\", \"CO\", [\"NY\", \"NV\"], \"RI\"]\n",
    "states_2 = deepcopy(states_1)\n",
    "del states_2[1]\n",
    "del states_2[2][0]\n",
    "print(\"states_1:\", states_1)\n",
    "print(\"states_2:\", states_2)"
   ]
  },
  {
   "cell_type": "markdown",
   "metadata": {},
   "source": [
    "## For-loops\n",
    "\n",
    "For loops allow us to _iterate_ over elements of containers such as lists or strings, and to access items of those containers individually, in order. The syntax is following:\n",
    "\n",
    "     for item in container:\n",
    "            # the variable \"item\" now refers to the next item of the container\n",
    "           "
   ]
  },
  {
   "cell_type": "code",
   "execution_count": null,
   "metadata": {},
   "outputs": [],
   "source": [
    "for char in \"Aniello\"[::-1]:\n",
    "    print(char)\n",
    "    "
   ]
  },
  {
   "cell_type": "code",
   "execution_count": null,
   "metadata": {},
   "outputs": [],
   "source": [
    "for el in [\"a\", \"e\", \"i\", \"o\", \"u\"]:\n",
    "    print(\"The current element is\", el)"
   ]
  },
  {
   "cell_type": "markdown",
   "metadata": {},
   "source": [
    "The code withing the for-loop will be executed for as many times as there are items in the container! This will turn out to be very useful!\n",
    "For instance, we can combine `if`-`elif`-`else` statements and `for` loops."
   ]
  },
  {
   "cell_type": "code",
   "execution_count": null,
   "metadata": {},
   "outputs": [],
   "source": [
    "vowels = [\"a\", \"e\", \"i\", \"o\", \"u\"]\n",
    "for char in \"linguistics\":\n",
    "    if char in vowels:\n",
    "        print(\"I found a vowel! It is\", char)"
   ]
  },
  {
   "cell_type": "markdown",
   "metadata": {},
   "source": [
    "Of course, `for` loops can be contained within `for` loops."
   ]
  },
  {
   "cell_type": "code",
   "execution_count": null,
   "metadata": {},
   "outputs": [],
   "source": [
    "cities = [\"NYC\", \"LA\", \"SF\"]\n",
    "\n",
    "for city in cities:\n",
    "    print(\"The current city is\", city)\n",
    "    print(\"Its letters are:\")\n",
    "    \n",
    "    for letter in city:\n",
    "        print(\"\\t\", letter)"
   ]
  },
  {
   "cell_type": "markdown",
   "metadata": {},
   "source": [
    "**Practice.** We are given lists of questions and possible answers."
   ]
  },
  {
   "cell_type": "code",
   "execution_count": null,
   "metadata": {},
   "outputs": [],
   "source": [
    "questions = [\"How are you?\", \"What are you doing?\", \"What's your name?\"]\n",
    "answers = [\"Fine!\", \"Nothing much\", \"Jen\"]"
   ]
  },
  {
   "cell_type": "markdown",
   "metadata": {},
   "source": [
    "Ask user every one of these questions, and if that answer is present in our list of answers, print \"I knew it!\"."
   ]
  },
  {
   "cell_type": "code",
   "execution_count": null,
   "metadata": {},
   "outputs": [],
   "source": []
  },
  {
   "cell_type": "markdown",
   "metadata": {},
   "source": [
    "**Practice.** You are given the following two lists."
   ]
  },
  {
   "cell_type": "code",
   "execution_count": null,
   "metadata": {},
   "outputs": [],
   "source": [
    "cities = [\"NYC\", \"LA\", \"SF\"]\n",
    "small_cities = [\"Stony Brook\", \"Provo\"]"
   ]
  },
  {
   "cell_type": "markdown",
   "metadata": {},
   "source": [
    "Add cities from `small_cities` to `cities` using the `append` method and a `for` loop, so that it would yield the following list:\n",
    "\n",
    "    [\"NYC\", \"LA\", \"SF\", \"Stony Brook\", \"Provo\"]"
   ]
  },
  {
   "cell_type": "code",
   "execution_count": null,
   "metadata": {},
   "outputs": [],
   "source": [
    "for city in small_cities:\n",
    "    cities.append(city)\n",
    "    print(cities)"
   ]
  },
  {
   "cell_type": "markdown",
   "metadata": {},
   "source": [
    "# Homework 3\n",
    "\n",
    "**Due on Sunday, September 20th, 11.59pm**\n",
    "\n",
    "Send your notebook (don't forget to save your solutions!) to <aniello.desanto@utah.edu> with the subject **\\[LING 5981/6080\\] Homework 3**."
   ]
  },
  {
   "cell_type": "markdown",
   "metadata": {},
   "source": [
    "**Problem 1. (3 points)** You are given two lists, `cities` and `small_cities`. Insert the elements from `small_cities` in `cities` in such a way so that the list `cities` would contain items in the following order:\n",
    "    \n",
    "    [\"NYC\", \"LA\", \"Stony Brook\", \"Provo\", \"SF\"]\n",
    "    \n",
    "Use any method or way you want."
   ]
  },
  {
   "cell_type": "code",
   "execution_count": 5,
   "metadata": {},
   "outputs": [
    {
     "name": "stdout",
     "output_type": "stream",
     "text": [
      "['NYC', 'LA', 'Stony Brook', 'Provo', 'SF']\n"
     ]
    }
   ],
   "source": [
    "cities = [\"NYC\", \"LA\", \"SF\"]\n",
    "small_cities = [\"Stony Brook\", \"Provo\"]\n",
    "\n",
    "# your code here\n",
    "cities.insert(2,small_cities[0])\n",
    "cities.insert(3,small_cities[1])\n",
    "print(cities)"
   ]
  },
  {
   "cell_type": "code",
   "execution_count": 4,
   "metadata": {},
   "outputs": [
    {
     "name": "stdout",
     "output_type": "stream",
     "text": [
      "['NYC', 'LA', 'Stony Brook', 'Provo', 'SF']\n"
     ]
    }
   ],
   "source": [
    "#Solution using for loops\n",
    "\n",
    "cities = [\"NYC\", \"LA\", \"SF\"]\n",
    "small_cities = [\"Stony Brook\", \"Provo\"]\n",
    "\n",
    "# your code here\n",
    "index = 2\n",
    "for city in small_cities:\n",
    "  cities.insert(index, city)\n",
    "  index += 1\n",
    "    \n",
    "print(cities)"
   ]
  },
  {
   "cell_type": "markdown",
   "metadata": {},
   "source": [
    "**Problem 2. (3 points)** Using the given list `cities`, produce the following output:\n",
    "\n",
    "    NYC NYC\n",
    "    NYC LA\n",
    "    NYC SF\n",
    "    LA NYC\n",
    "    LA LA\n",
    "    LA SF\n",
    "    SF NYC\n",
    "    SF LA\n",
    "    SF SF"
   ]
  },
  {
   "cell_type": "code",
   "execution_count": null,
   "metadata": {},
   "outputs": [],
   "source": [
    "cities = [\"NYC\", \"LA\", \"SF\"]\n",
    "\n",
    "# your code here\n",
    "for city1 in cities:\n",
    "    for city2 in cities:\n",
    "        print(city1,city2)"
   ]
  },
  {
   "cell_type": "markdown",
   "metadata": {},
   "source": [
    "**Problem 3. (4 points)** You are given some words from the [Swadesh list](https://en.wikipedia.org/wiki/Swadesh_list)."
   ]
  },
  {
   "cell_type": "code",
   "execution_count": null,
   "metadata": {},
   "outputs": [],
   "source": [
    "words = [\"sun\", \"moon\", \"earth\", \"water\", \"food\", \"sky\"]"
   ]
  },
  {
   "cell_type": "markdown",
   "metadata": {},
   "source": [
    "Imagine that you are working with a native speaker of some language other than English. Create a new (empty) list for words of that language, call it `translations`. Then, for every word of the Swadesh list (`words`), ask the user to provide its translation, and save them into the `translations` list. After all the words were translated, print `translations`. (ps. for the sake of the hw, you do not need to speak another language! To test your code you can simply input the English word again! What matters is the mapping!)"
   ]
  },
  {
   "cell_type": "code",
   "execution_count": null,
   "metadata": {},
   "outputs": [],
   "source": [
    "#instantiate a list of translations\n",
    "translations = []\n",
    "\n",
    "for word in words:\n",
    "    #Get the translation\n",
    "    print(\"Can you translate\", word + \"?\")\n",
    "    word_trans = input()\n",
    "    #add the translation to the list of translations\n",
    "    translations.append(word_trans)\n",
    "    \n",
    "print(words)\n",
    "print(translations)"
   ]
  },
  {
   "cell_type": "code",
   "execution_count": null,
   "metadata": {},
   "outputs": [],
   "source": []
  }
 ],
 "metadata": {
  "kernelspec": {
   "display_name": "Python 3",
   "language": "python",
   "name": "python3"
  },
  "language_info": {
   "codemirror_mode": {
    "name": "ipython",
    "version": 3
   },
   "file_extension": ".py",
   "mimetype": "text/x-python",
   "name": "python",
   "nbconvert_exporter": "python",
   "pygments_lexer": "ipython3",
   "version": "3.8.5"
  }
 },
 "nbformat": 4,
 "nbformat_minor": 2
}
